# Boltzmann Machines
<hr>

#### Dataset:- https://files.grouplens.org/datasets/movielens/ml-100k.zip, https://files.grouplens.org/datasets/movielens/ml-1m.zip

#### Dataset For Testing:- https://grouplens.org/datasets/movielens/

#### Reference Book:- [An Introduction to Restricted Boltzmann Machines](Reference/An%20Introduction%20to%20Restricted%20Boltzmann%20Machines.pdf)

<hr>

## Restricted Boltzmann Machines (RBMs)
<hr>

### Importing the Libraries

import numpy as np
import pandas as pd
import torch
import torch.nn as nn
import torch.nn.parallel
import torch.optim as optim
import torch.utils.data
from torch.autograd import Variable

<hr>
